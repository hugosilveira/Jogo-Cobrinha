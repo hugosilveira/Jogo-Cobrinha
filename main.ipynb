{
  "nbformat": 4,
  "nbformat_minor": 0,
  "metadata": {
    "colab": {
      "provenance": [],
      "authorship_tag": "ABX9TyNckj7h0zzzxDSZONXG2zTX",
      "include_colab_link": true
    },
    "kernelspec": {
      "name": "python3",
      "display_name": "Python 3"
    },
    "language_info": {
      "name": "python"
    }
  },
  "cells": [
    {
      "cell_type": "markdown",
      "metadata": {
        "id": "view-in-github",
        "colab_type": "text"
      },
      "source": [
        "<a href=\"https://colab.research.google.com/github/hugosilveira/Jogo-Cobrinha/blob/main/main.ipynb\" target=\"_parent\"><img src=\"https://colab.research.google.com/assets/colab-badge.svg\" alt=\"Open In Colab\"/></a>"
      ]
    },
    {
      "cell_type": "code",
      "execution_count": null,
      "metadata": {
        "colab": {
          "base_uri": "https://localhost:8080/"
        },
        "id": "GFhibiDogVhw",
        "outputId": "1d1d7eed-cc38-4ceb-b9a8-bfca419b2121"
      },
      "outputs": [
        {
          "output_type": "stream",
          "name": "stdout",
          "text": [
            "pygame 2.5.2 (SDL 2.28.2, Python 3.10.12)\n",
            "Hello from the pygame community. https://www.pygame.org/contribute.html\n"
          ]
        }
      ],
      "source": [
        "import pygame\n",
        "import random\n",
        "\n",
        "pygame.init()\n",
        "square_width = 750\n",
        "pixel_width = 50\n",
        "screen = pygame.display.set_mode([square_width] * 2)\n",
        "clock = pygame.time.Clock()\n",
        "running = True\n",
        "\n",
        "\n",
        "def generate_starting_position():\n",
        "    position_range = (pixel_width // 2, square_width - pixel_width // 2, pixel_width)\n",
        "    return [random.randrange(*position_range), random.randrange(*position_range)]\n",
        "\n",
        "\n",
        "def reset():\n",
        "    target.center = generate_starting_position()\n",
        "    snake_pixel.center = generate_starting_position()\n",
        "    return snake_pixel.copy()\n",
        "\n",
        "\n",
        "def is_out_of_bounds():\n",
        "    return snake_pixel.bottom > square_width or snake_pixel.top < 0 \\\n",
        "        or snake_pixel.left < 0 or snake_pixel.right > square_width\n",
        "\n",
        "\n",
        "snake_pixel = pygame.rect.Rect([0, 0, pixel_width - 2, pixel_width - 2])\n",
        "snake_pixel.center = generate_starting_position()\n",
        "snake = [snake_pixel.copy()]\n",
        "snake_direction = (0, 0)\n",
        "snake_length = 1\n",
        "\n",
        "target = pygame.rect.Rect([0, 0, pixel_width - 2, pixel_width - 2])\n",
        "target.center = generate_starting_position()\n",
        "\n",
        "while running:\n",
        "    for event in pygame.event.get():\n",
        "        if event.type == pygame.QUIT:\n",
        "            running = False\n",
        "\n",
        "    screen.fill(\"black\")\n",
        "\n",
        "    if is_out_of_bounds():\n",
        "        snake_length = 1\n",
        "        target.center = generate_starting_position()\n",
        "        snake_pixel.center = generate_starting_position()\n",
        "        snake = [snake_pixel.copy()]\n",
        "\n",
        "    if snake_pixel.center == target.center:\n",
        "        target.center = generate_starting_position()\n",
        "        snake_length += 1\n",
        "        snake.append(snake_pixel.copy())\n",
        "\n",
        "    keys = pygame.key.get_pressed()\n",
        "    if keys[pygame.K_w]:\n",
        "        snake_direction = (0, - pixel_width)\n",
        "    if keys[pygame.K_s]:\n",
        "        snake_direction = (0, pixel_width)\n",
        "    if keys[pygame.K_a]:\n",
        "        snake_direction = (- pixel_width, 0)\n",
        "    if keys[pygame.K_d]:\n",
        "        snake_direction = (pixel_width, 0)\n",
        "\n",
        "    for snake_part in snake:\n",
        "        pygame.draw.rect(screen, \"green\", snake_part)\n",
        "\n",
        "    pygame.draw.rect(screen, \"red\", target)\n",
        "\n",
        "    snake_pixel.move_ip(snake_direction)\n",
        "    snake.append(snake_pixel.copy())\n",
        "    snake = snake[-snake_length:]\n",
        "\n",
        "    pygame.display.flip()\n",
        "\n",
        "    clock.tick(10)\n",
        "\n",
        "pygame.quit()"
      ]
    }
  ]
}